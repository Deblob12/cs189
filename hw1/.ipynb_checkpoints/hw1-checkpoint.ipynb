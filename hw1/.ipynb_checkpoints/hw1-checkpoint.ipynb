{
 "cells": [
  {
   "cell_type": "code",
   "execution_count": 22,
   "metadata": {},
   "outputs": [
    {
     "name": "stdout",
     "output_type": "stream",
     "text": [
      "\n",
      "loaded mnist data!\n",
      "test_data (10000, 784)\n",
      "training_data (60000, 784)\n",
      "training_labels (60000, 1)\n",
      "\n",
      "loaded spam data!\n",
      "test_data (5857, 32)\n",
      "training_data (5172, 32)\n",
      "training_labels (5172, 1)\n",
      "\n",
      "loaded cifar10 data!\n",
      "test_data (10000, 3072)\n",
      "training_data (50000, 3072)\n",
      "training_labels (50000, 1)\n"
     ]
    }
   ],
   "source": [
    "#1 Python Configuration and Data Loading\n",
    "import sys\n",
    "\n",
    "if sys.version_info[0] < 3:\n",
    "    raise Exception(\"Python 3 not detected.\")\n",
    "    \n",
    "import numpy as np\n",
    "import matplotlib.pyplot as plt\n",
    "from sklearn import svm\n",
    "from scipy import io\n",
    "# import pandas as pd\n",
    "\n",
    "for data_name in [\"mnist\", \"spam\", \"cifar10\"]:\n",
    "    data = io.loadmat(\"data/%s_data.mat\" % data_name)\n",
    "    print(\"\\nloaded %s data!\" % data_name)\n",
    "    fields = \"test_data\", \"training_data\", \"training_labels\"\n",
    "    for field in fields:\n",
    "        print(field, data[field].shape)"
   ]
  },
  {
   "cell_type": "code",
   "execution_count": 40,
   "metadata": {},
   "outputs": [],
   "source": [
    "#2 Data Partitioning\n",
    "np.random.seed(1)\n",
    "\n",
    "def shuffle_train_val_split(name, val_amt=0, percent=0):\n",
    "    data = io.loadmat(\"data/%s_data.mat\" % name)\n",
    "    num_ex = data[\"training_data\"].shape[0]\n",
    "    shuffle = np.random.permutation(num_ex) \n",
    "    #shuffle before split\n",
    "    data_xtrain, data_ytrain = data[\"training_data\"][shuffle], data[\"training_labels\"][shuffle]\n",
    "    #split\n",
    "    if not val_amt:\n",
    "        #spam\n",
    "        val_amt = int(percent * num_ex)\n",
    "    data_xval, data_yval = data_xtrain[:val_amt,:], data_ytrain[:val_amt,:]\n",
    "    data_xtrain, data_ytrain = data_xtrain[val_amt:,:], data_ytrain[val_amt:,:]\n",
    "    return data_xtrain, data_ytrain, data_xval, data_yval"
   ]
  },
  {
   "cell_type": "code",
   "execution_count": 41,
   "metadata": {},
   "outputs": [
    {
     "name": "stdout",
     "output_type": "stream",
     "text": [
      "60000\n",
      "(60000, 784) (60000, 1)\n",
      "(50000, 784) (50000, 1) (10000, 784) (10000, 1)\n",
      "5172\n",
      "(5172, 32) (5172, 1)\n",
      "(4138, 32) (4138, 1) (1034, 32) (1034, 1)\n",
      "50000\n",
      "(50000, 3072) (50000, 1)\n",
      "(45000, 3072) (45000, 1) (5000, 3072) (5000, 1)\n"
     ]
    }
   ],
   "source": [
    "#2 Data Partitioning\n",
    "mnist_xtrain, mnist_ytrain, mnist_xval, mnist_yval = shuffle_train_val_split(\"mnist\", 10000)\n",
    "spam_xtrain, spam_ytrain, spam_xval, spam_yval = shuffle_train_val_split(\"spam\", percent=0.2)\n",
    "cifar10_xtrain, cifar10_ytrain, cifar10_xval, cifar10_yval = shuffle_train_val_split(\"cifar10\", 5000)"
   ]
  },
  {
   "cell_type": "code",
   "execution_count": null,
   "metadata": {},
   "outputs": [],
   "source": [
    "#3 Support Vector Machines: Coding"
   ]
  }
 ],
 "metadata": {
  "kernelspec": {
   "display_name": "Python 3",
   "language": "python",
   "name": "python3"
  },
  "language_info": {
   "codemirror_mode": {
    "name": "ipython",
    "version": 3
   },
   "file_extension": ".py",
   "mimetype": "text/x-python",
   "name": "python",
   "nbconvert_exporter": "python",
   "pygments_lexer": "ipython3",
   "version": "3.7.2"
  }
 },
 "nbformat": 4,
 "nbformat_minor": 2
}
