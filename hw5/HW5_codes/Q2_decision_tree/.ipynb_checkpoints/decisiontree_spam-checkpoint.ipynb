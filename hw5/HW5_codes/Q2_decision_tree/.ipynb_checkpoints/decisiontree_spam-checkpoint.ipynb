{
 "cells": [
  {
   "cell_type": "markdown",
   "metadata": {},
   "source": [
    "## Decision Tree for Spam \n",
    "### (make sure to have run featurize_spam.py)"
   ]
  },
  {
   "cell_type": "code",
   "execution_count": 1,
   "metadata": {},
   "outputs": [],
   "source": [
    "import numpy as np\n",
    "np.random.seed(1)\n",
    "\n",
    "import scipy.io\n",
    "from sklearn.model_selection import train_test_split\n",
    "from sklearn.preprocessing import StandardScaler\n",
    "from sklearn.decomposition import PCA\n",
    "\n",
    "from decisiontree import *"
   ]
  },
  {
   "cell_type": "code",
   "execution_count": null,
   "metadata": {},
   "outputs": [
    {
     "data": {
      "text/plain": [
       "((3336, 25), (3336,), (5857, 25))"
      ]
     },
     "execution_count": 2,
     "metadata": {},
     "output_type": "execute_result"
    }
   ],
   "source": [
    "spam_path = \"datasets/spam-dataset/spam_data.mat\"\n",
    "data = scipy.io.loadmat(spam_path)\n",
    "x = data[\"training_data\"]\n",
    "x = StandardScaler().fit_transform(x)\n",
    "pca = PCA(n_components=0.90, whiten=True)\n",
    "pca_fit = pca.fit(x)\n",
    "x = pca_fit.transform(x)\n",
    "\n",
    "y = np.squeeze(data[\"training_labels\"])\n",
    "x_train, x_val, y_train, y_val = train_test_split(x, y, test_size=0.2)\n",
    "x_test = pca.transform(data[\"test_data\"])\n",
    "x.shape,y.shape,x_test.shape"
   ]
  },
  {
   "cell_type": "code",
   "execution_count": null,
   "metadata": {},
   "outputs": [
    {
     "name": "stdout",
     "output_type": "stream",
     "text": [
      "currently on depth  0\n",
      "currently on depth  1\n",
      "currently on depth  2\n",
      "currently on depth  2\n",
      "currently on depth  3\n",
      "currently on depth  4\n",
      "currently on depth  5\n",
      "currently on depth  5\n",
      "currently on depth  6\n",
      "currently on depth  7\n",
      "currently on depth  8\n",
      "currently on depth  9\n",
      "currently on depth  9\n",
      "currently on depth  10\n",
      "currently on depth  11\n",
      "currently on depth  12\n",
      "currently on depth  12\n",
      "currently on depth  13\n",
      "currently on depth  13\n",
      "currently on depth  14\n",
      "currently on depth  14\n",
      "currently on depth  15\n",
      "currently on depth  16\n",
      "currently on depth  17\n",
      "currently on depth  18\n",
      "currently on depth  18\n",
      "currently on depth  17\n",
      "currently on depth  16\n",
      "currently on depth  15\n",
      "currently on depth  11\n",
      "currently on depth  10\n",
      "currently on depth  8\n",
      "currently on depth  7\n",
      "currently on depth  6\n",
      "currently on depth  7\n",
      "currently on depth  7\n",
      "currently on depth  8\n",
      "currently on depth  8\n",
      "currently on depth  9\n",
      "currently on depth  10\n",
      "currently on depth  10\n",
      "currently on depth  11\n",
      "currently on depth  12\n",
      "currently on depth  13\n",
      "currently on depth  13\n",
      "currently on depth  14\n",
      "currently on depth  15\n",
      "currently on depth  15\n",
      "currently on depth  16\n",
      "currently on depth  17\n",
      "currently on depth  18\n",
      "currently on depth  19\n",
      "currently on depth  20\n"
     ]
    }
   ],
   "source": [
    "%%time\n",
    "dt = DecisionTree(max_depth=20,header=\"spam_decisiontree_\")\n",
    "dt.fit(x_train, y_train)"
   ]
  },
  {
   "cell_type": "code",
   "execution_count": null,
   "metadata": {},
   "outputs": [],
   "source": [
    "%%time\n",
    "train_preds = dt.predict(x_train,\"train\")\n",
    "print(\"training accuracy:\",np.mean(train_preds==y_train))\n",
    "val_preds = dt.predict(x_val,\"val\")\n",
    "print(\"validation accuracy:\",np.mean(val_preds==y_val))\n",
    "dt.predict(x_test,\"test\")"
   ]
  }
 ],
 "metadata": {
  "kernelspec": {
   "display_name": "Python 3",
   "language": "python",
   "name": "python3"
  },
  "language_info": {
   "codemirror_mode": {
    "name": "ipython",
    "version": 3
   },
   "file_extension": ".py",
   "mimetype": "text/x-python",
   "name": "python",
   "nbconvert_exporter": "python",
   "pygments_lexer": "ipython3",
   "version": "3.6.7"
  }
 },
 "nbformat": 4,
 "nbformat_minor": 2
}
