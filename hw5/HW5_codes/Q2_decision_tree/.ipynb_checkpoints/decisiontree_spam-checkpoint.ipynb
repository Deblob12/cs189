{
 "cells": [
  {
   "cell_type": "markdown",
   "metadata": {},
   "source": [
    "## Decision Tree for Spam \n",
    "### (make sure to have run featurize_spam.py)"
   ]
  },
  {
   "cell_type": "code",
   "execution_count": 21,
   "metadata": {},
   "outputs": [],
   "source": [
    "import numpy as np\n",
    "np.random.seed(1)\n",
    "\n",
    "import scipy.io\n",
    "from sklearn.model_selection import train_test_split\n",
    "from sklearn.preprocessing import StandardScaler\n",
    "from sklearn.decomposition import PCA\n",
    "from decisiontree import *\n",
    "import pandas as pd\n",
    "import matplotlib.pyplot as plt"
   ]
  },
  {
   "cell_type": "code",
   "execution_count": 2,
   "metadata": {},
   "outputs": [
    {
     "data": {
      "text/plain": [
       "((3336, 4), (3336,), (5857, 4))"
      ]
     },
     "execution_count": 2,
     "metadata": {},
     "output_type": "execute_result"
    }
   ],
   "source": [
    "spam_path = \"datasets/spam-dataset/spam_data.mat\"\n",
    "data = scipy.io.loadmat(spam_path)\n",
    "x = data[\"training_data\"]\n",
    "x = StandardScaler().fit_transform(x)\n",
    "pca = PCA(n_components=0.1)\n",
    "pca_fit = pca.fit(x)\n",
    "x = pca_fit.transform(x)\n",
    "y = np.squeeze(data[\"training_labels\"])\n",
    "x_train, x_val, y_train, y_val = train_test_split(x, y, test_size=0.2)\n",
    "x_test = pca_fit.transform(data[\"test_data\"])\n",
    "x.shape,y.shape,x_test.shape"
   ]
  },
  {
   "cell_type": "code",
   "execution_count": 3,
   "metadata": {},
   "outputs": [
    {
     "name": "stdout",
     "output_type": "stream",
     "text": [
      "CPU times: user 26.1 s, sys: 121 ms, total: 26.3 s\n",
      "Wall time: 25.7 s\n"
     ]
    }
   ],
   "source": [
    "%%time\n",
    "dt = DecisionTree(max_depth=5,header=\"spam_decisiontree\")\n",
    "dt.fit(x_train, y_train)"
   ]
  },
  {
   "cell_type": "code",
   "execution_count": 4,
   "metadata": {},
   "outputs": [
    {
     "name": "stdout",
     "output_type": "stream",
     "text": [
      "training accuracy: 0.8024737631184408\n",
      "validation accuracy: 0.7679640718562875\n",
      "saved predictions\n",
      "CPU times: user 83 ms, sys: 2.52 ms, total: 85.5 ms\n",
      "Wall time: 85.4 ms\n"
     ]
    }
   ],
   "source": [
    "%%time\n",
    "train_preds = dt.predict(x_train,\"train\")\n",
    "print(\"training accuracy:\",np.mean(train_preds==y_train))\n",
    "val_preds = dt.predict(x_val,\"val\")\n",
    "print(\"validation accuracy:\",np.mean(val_preds==y_val))\n",
    "dt.predict(x_test,\"test\")"
   ]
  },
  {
   "cell_type": "code",
   "execution_count": 28,
   "metadata": {},
   "outputs": [
    {
     "name": "stdout",
     "output_type": "stream",
     "text": [
      "[ 0.74230434  0.36332807 -0.26175289 -0.68227287]\n",
      "[ 0.29276416 -1.3366646   2.19376482  1.44083043]\n",
      "[[ 0.0580845   0.03290297  0.11068428  0.10132154  0.14326055  0.10786764\n",
      "   0.05709394  0.07685877  0.10762476  0.13951499]\n",
      " [-0.01093026  0.02112622  0.0370875   0.02724811  0.06467807  0.04989163\n",
      "   0.01995069  0.02913266  0.02971837  0.08542487]\n",
      " [-0.04849529 -0.12604642 -0.11396102 -0.09335385 -0.15598889 -0.09255568\n",
      "  -0.12256773 -0.09831799 -0.08049307 -0.05109376]\n",
      " [-0.02349031 -0.1201852  -0.01062051 -0.05757403 -0.0224421   0.02003524\n",
      "   0.0599332   0.00714026  0.01137459  0.0066579 ]]\n"
     ]
    }
   ],
   "source": [
    "spam_ex, ham_ex = 0, 3330\n",
    "print(x[spam_ex,:])\n",
    "print(x[ham_ex,:])      \n",
    "#compare these values to csv file to find original feature names\n",
    "print(pca.components_[:,:10])"
   ]
  },
  {
   "cell_type": "code",
   "execution_count": 6,
   "metadata": {},
   "outputs": [
    {
     "name": "stdout",
     "output_type": "stream",
     "text": [
      "Depth 0: feature # 1 > -0.7780129071706656\n",
      "\n",
      "\n",
      "Depth 1: feature # 0 > 2.6189832383004514\n",
      "Depth 1: feature # 2 > 0.9921342449684696\n",
      "\n",
      "\n",
      "Depth 2: feature # 2 > 3.949073938824735\n",
      "Depth 2: feature # 0 > -3.161120498538386\n",
      "Depth 2: 0\n",
      "Depth 2: feature # 0 > -0.7690328621550679\n",
      "\n",
      "\n",
      "Depth 3: 1\n",
      "Depth 3: feature # 3 > -2.9930528367786953\n",
      "Depth 3: feature # 2 > 0.9073762092553337\n",
      "Depth 3: 0\n",
      "Depth 3: feature # 2 > -0.05866680006281934\n",
      "Depth 3: feature # 1 > -1.9683429838272546\n",
      "\n",
      "\n",
      "Depth 4: feature # 1 > 3.9852817301579764\n",
      "Depth 4: 1\n",
      "Depth 4: feature # 3 > -1.6476489326418253\n",
      "Depth 4: feature # 0 > -1.0477664390728805\n",
      "Depth 4: 0\n",
      "Depth 4: 1\n",
      "Depth 4: feature # 1 > -1.9539107909544002\n",
      "Depth 4: 1\n",
      "\n",
      "\n",
      "Depth 5: 0\n",
      "Depth 5: 0\n",
      "Depth 5: 0\n",
      "Depth 5: 1\n",
      "Depth 5: 0\n",
      "Depth 5: 1\n",
      "Depth 5: 1\n",
      "Depth 5: 0\n",
      "\n",
      "\n"
     ]
    }
   ],
   "source": [
    "dt.print_tree()"
   ]
  },
  {
   "cell_type": "code",
   "execution_count": 7,
   "metadata": {},
   "outputs": [
    {
     "name": "stdout",
     "output_type": "stream",
     "text": [
      "finished predicting with depth 0\n",
      "finished predicting with depth 5\n",
      "finished predicting with depth 10\n",
      "finished predicting with depth 15\n",
      "finished predicting with depth 20\n",
      "finished predicting with depth 25\n",
      "finished predicting with depth 30\n",
      "finished predicting with depth 35\n",
      "CPU times: user 19min 29s, sys: 6.02 s, total: 19min 35s\n",
      "Wall time: 19min 51s\n"
     ]
    }
   ],
   "source": [
    "%%time\n",
    "val_accs = []\n",
    "for i in range(40):\n",
    "    dt = DecisionTree(max_depth=i,header=\"spam_decisiontree\")\n",
    "    dt.fit(x_train, y_train)\n",
    "    val_preds = dt.predict(x_val,\"val\")\n",
    "    val_accs.append(np.mean(val_preds==y_val))\n",
    "    if i % 5 == 0:\n",
    "        print(\"finished predicting with depth\",i)"
   ]
  },
  {
   "cell_type": "code",
   "execution_count": 8,
   "metadata": {},
   "outputs": [
    {
     "data": {
      "image/png": "[encoded data removed]",
      "text/plain": [
       "<Figure size 432x288 with 1 Axes>"
      ]
     },
     "metadata": {
      "needs_background": "light"
     },
     "output_type": "display_data"
    }
   ],
   "source": [
    "plt.xlabel(\"decision tree depth\")\n",
    "plt.ylabel('validation accuracy')\n",
    "plt.plot([i for i in range(len(val_accs))], val_accs);"
   ]
  },
  {
   "cell_type": "code",
   "execution_count": 29,
   "metadata": {},
   "outputs": [
    {
     "name": "stdout",
     "output_type": "stream",
     "text": [
      "7\n"
     ]
    }
   ],
   "source": [
    "print(np.argmax(val_accs))"
   ]
  }
 ],
 "metadata": {
  "kernelspec": {
   "display_name": "Python 3",
   "language": "python",
   "name": "python3"
  },
  "language_info": {
   "codemirror_mode": {
    "name": "ipython",
    "version": 3
   },
   "file_extension": ".py",
   "mimetype": "text/x-python",
   "name": "python",
   "nbconvert_exporter": "python",
   "pygments_lexer": "ipython3",
   "version": "3.6.7"
  }
 },
 "nbformat": 4,
 "nbformat_minor": 2
}
