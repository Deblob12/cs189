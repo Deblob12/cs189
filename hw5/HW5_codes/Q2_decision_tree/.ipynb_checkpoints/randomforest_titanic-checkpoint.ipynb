{
 "cells": [
  {
   "cell_type": "markdown",
   "metadata": {},
   "source": [
    "## Random Forest for Titanic"
   ]
  },
  {
   "cell_type": "code",
   "execution_count": 1,
   "metadata": {},
   "outputs": [],
   "source": [
    "import numpy as np\n",
    "np.random.seed(10)\n",
    "\n",
    "import pandas as pd\n",
    "import re\n",
    "from sklearn.model_selection import train_test_split\n",
    "from sklearn.preprocessing import StandardScaler\n",
    "from sklearn.decomposition import PCA\n",
    "from decisiontree import *"
   ]
  },
  {
   "cell_type": "code",
   "execution_count": 2,
   "metadata": {},
   "outputs": [],
   "source": [
    "train = pd.read_csv(\"datasets/titanic/titanic_training.csv\")\n",
    "test = pd.read_csv(\"datasets/titanic/titanic_testing_data.csv\")"
   ]
  },
  {
   "cell_type": "code",
   "execution_count": 3,
   "metadata": {},
   "outputs": [],
   "source": [
    "train.fillna(train.mean(),inplace=True)\n",
    "test.fillna(train.mean(),inplace=True)\n",
    "\n",
    "mode_sex = list(train[\"sex\"])\n",
    "mode_ticket = list(train[\"ticket\"])\n",
    "mode_embarked = list(train[\"embarked\"])\n",
    "reps = {\"sex\":max(set(mode_sex),key=mode_sex.count),\n",
    "        \"ticket\":max(set(mode_ticket),key=mode_ticket.count),\n",
    "        \"embarked\":max(set(mode_embarked),key=mode_embarked.count)}\n",
    "\n",
    "train.fillna(reps,inplace=True)\n",
    "test.fillna(reps,inplace=True)"
   ]
  },
  {
   "cell_type": "code",
   "execution_count": 4,
   "metadata": {},
   "outputs": [],
   "source": [
    "#one hot cabin training set\n",
    "cabin = train[[\"cabin\"]].copy()\n",
    "cabin[\"cabin\"] = cabin[\"cabin\"].str.slice(0,1)\n",
    "mode_cabin = list(cabin[\"cabin\"])\n",
    "cabin[\"cabin\"] = cabin[\"cabin\"].fillna(\n",
    "                max(set(mode_cabin),\n",
    "                key=mode_cabin.count))\n",
    "one_hot = pd.get_dummies(cabin[\"cabin\"])\n",
    "train = pd.concat([train, cabin], axis=1, sort=False)\n",
    "train = train.loc[:,~train.columns.duplicated()] #removed extra T col\n",
    "\n",
    "#one hot cabin test set\n",
    "cabin = test[[\"cabin\"]].copy()\n",
    "cabin[\"cabin\"] = cabin[\"cabin\"].str.slice(0,1)\n",
    "mode_cabin = list(cabin[\"cabin\"])\n",
    "cabin[\"cabin\"] = cabin[\"cabin\"].fillna(\n",
    "                max(set(mode_cabin),\n",
    "                key=mode_cabin.count))\n",
    "one_hot = pd.get_dummies(cabin[\"cabin\"])\n",
    "# test.drop(columns=[\"cabin\"],axis=1,inplace=True)\n",
    "test = pd.concat([test, cabin], axis=1, sort=False)\n",
    "test = test.loc[:,~train.columns.duplicated()] #removed extra T col"
   ]
  },
  {
   "cell_type": "code",
   "execution_count": 5,
   "metadata": {},
   "outputs": [],
   "source": [
    "#one hot sex training set\n",
    "train = pd.concat([train,\n",
    "                   pd.get_dummies(train[\"sex\"], \n",
    "                      prefix=\"sex\")],axis=1)\n",
    "train.drop([\"sex\"], axis=1,inplace=True)\n",
    "\n",
    "#one hot sex test set\n",
    "test = pd.concat([test,\n",
    "                  pd.get_dummies(test[\"sex\"], \n",
    "                     prefix=\"sex\")],axis=1)\n",
    "test.drop([\"sex\"], axis=1, inplace=True)"
   ]
  },
  {
   "cell_type": "code",
   "execution_count": 6,
   "metadata": {},
   "outputs": [],
   "source": [
    "#one hot embarked training set\n",
    "train = pd.concat([train,\n",
    "                   pd.get_dummies(train[\"embarked\"],\n",
    "                        prefix=\"embarked\")],axis=1)\n",
    "train.drop([\"embarked\"], axis=1, inplace=True)\n",
    "\n",
    "#one hot embarked test set\n",
    "test = pd.concat([test,\n",
    "                  pd.get_dummies(test[\"embarked\"], \n",
    "                         prefix=\"embarked\")],axis=1)\n",
    "test.drop([\"embarked\"], axis=1, inplace=True)"
   ]
  },
  {
   "cell_type": "code",
   "execution_count": 7,
   "metadata": {},
   "outputs": [],
   "source": [
    "def getnum(s):\n",
    "    s = re.findall(r\"\\d+\",str(s))\n",
    "    return int(s[0]) if len(s)>=1 else -1\n",
    "\n",
    "train[\"ticket\"] = train[\"ticket\"].apply(lambda s: getnum(s))\n",
    "test[\"ticket\"] = test[\"ticket\"].apply(lambda s: getnum(s))\n",
    "train[\"ticket\"] = train[\"ticket\"].apply(lambda s: train[\"ticket\"].mean() if s==-1 else s)\n",
    "test[\"ticket\"] = test[\"ticket\"].apply(lambda s: test[\"ticket\"].mean() if s==-1 else s)\n",
    "\n",
    "train_y = train[\"survived\"].values\n",
    "train.drop([\"survived\"], axis=1, inplace=True)\n",
    "\n",
    "train.drop(columns=[\"cabin\"],axis=1,inplace=True)\n",
    "test.drop(columns=[\"cabin\"],axis=1,inplace=True)"
   ]
  },
  {
   "cell_type": "code",
   "execution_count": 8,
   "metadata": {},
   "outputs": [
    {
     "data": {
      "text/plain": [
       "((800, 11), (310, 11))"
      ]
     },
     "execution_count": 8,
     "metadata": {},
     "output_type": "execute_result"
    }
   ],
   "source": [
    "train = train.values\n",
    "x_test = test.values\n",
    "x_train, x_val, y_train, y_val = \\\n",
    "train_test_split(train, train_y, test_size=0.2)\n",
    "x_train.shape,x_test.shape"
   ]
  },
  {
   "cell_type": "code",
   "execution_count": 9,
   "metadata": {},
   "outputs": [
    {
     "name": "stderr",
     "output_type": "stream",
     "text": [
      "2019-03-27 03:15:41,560\tWARNING worker.py:1406 -- WARNING: Not updating worker name since `setproctitle` is not installed. Install this with `pip install setproctitle` (or ray[debug]) to enable monitoring of worker processes.\n",
      "2019-03-27 03:15:41,562\tINFO node.py:423 -- Process STDOUT and STDERR is being redirected to /tmp/ray/session_2019-03-27_03-15-41_59094/logs.\n",
      "2019-03-27 03:15:41,672\tINFO services.py:363 -- Waiting for redis server at 127.0.0.1:60972 to respond...\n",
      "2019-03-27 03:15:41,784\tINFO services.py:363 -- Waiting for redis server at 127.0.0.1:49058 to respond...\n",
      "2019-03-27 03:15:41,787\tINFO services.py:760 -- Starting Redis shard with 3.44 GB max memory.\n",
      "2019-03-27 03:15:41,798\tINFO services.py:1384 -- Starting the Plasma object store with 5.15 GB memory using /tmp.\n"
     ]
    },
    {
     "name": "stdout",
     "output_type": "stream",
     "text": [
      "CPU times: user 99.2 ms, sys: 63.4 ms, total: 163 ms\n",
      "Wall time: 3.07 s\n"
     ]
    }
   ],
   "source": [
    "%%time\n",
    "rf = RandomForest(num_trees=10,header=\"titanic_randomforest\")\n",
    "rf.fit(x_train, y_train)"
   ]
  },
  {
   "cell_type": "code",
   "execution_count": 10,
   "metadata": {},
   "outputs": [
    {
     "name": "stdout",
     "output_type": "stream",
     "text": [
      "training accuracy: 0.62375\n",
      "validation accuracy: 0.57\n",
      "saved predictions\n",
      "CPU times: user 63.9 ms, sys: 6.41 ms, total: 70.3 ms\n",
      "Wall time: 77.5 ms\n"
     ]
    }
   ],
   "source": [
    "%%time\n",
    "train_preds = rf.predict(x_train,\"train\")\n",
    "print(\"training accuracy:\",np.mean(train_preds==y_train))\n",
    "val_preds = rf.predict(x_val,\"val\")\n",
    "print(\"validation accuracy:\",np.mean(val_preds==y_val))\n",
    "rf.predict(x_test,\"test\")"
   ]
  }
 ],
 "metadata": {
  "kernelspec": {
   "display_name": "Python 3",
   "language": "python",
   "name": "python3"
  },
  "language_info": {
   "codemirror_mode": {
    "name": "ipython",
    "version": 3
   },
   "file_extension": ".py",
   "mimetype": "text/x-python",
   "name": "python",
   "nbconvert_exporter": "python",
   "pygments_lexer": "ipython3",
   "version": "3.6.7"
  }
 },
 "nbformat": 4,
 "nbformat_minor": 2
}
