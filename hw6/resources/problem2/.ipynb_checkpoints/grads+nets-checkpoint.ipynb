{
 "cells": [
  {
   "cell_type": "code",
   "execution_count": 1,
   "metadata": {},
   "outputs": [],
   "source": [
    "%load_ext autoreload\n",
    "%autoreload 2"
   ]
  },
  {
   "cell_type": "code",
   "execution_count": 60,
   "metadata": {},
   "outputs": [],
   "source": [
    "from gradient_check import eval_numerical_gradient_array\n",
    "import numpy as np\n",
    "from layers import *\n",
    "import matplotlib.pyplot as plt\n",
    "import itertools\n",
    "np.random.seed(1)"
   ]
  },
  {
   "cell_type": "markdown",
   "metadata": {},
   "source": [
    "# 2.1.1 gradient check: affine transformation"
   ]
  },
  {
   "cell_type": "code",
   "execution_count": 92,
   "metadata": {},
   "outputs": [
    {
     "name": "stdout",
     "output_type": "stream",
     "text": [
      "[[-0.19169953  0.77598634  1.0997028   1.80174338]\n",
      " [ 2.26343588 -2.09109747 -3.81138775  0.81421387]\n",
      " [ 0.14705629 -0.13054605 -0.24073457  0.06949683]]\n",
      "[[-0.19169953  0.77598634  1.0997028   1.80174338]\n",
      " [ 2.26343588 -2.09109747 -3.81138775  0.81421387]\n",
      " [ 0.14705629 -0.13054605 -0.24073457  0.06949683]]\n"
     ]
    }
   ],
   "source": [
    "# gradient checking: compare the analytical gradient with the numerical gradient\n",
    "N = 2\n",
    "D = 3\n",
    "M = 4\n",
    "x = np.random.normal(size=(N, D))\n",
    "w = np.random.normal(size=(D, M))\n",
    "b = np.random.normal(size=(M, ))\n",
    "dout = np.random.normal(size=(N, M))\n",
    "\n",
    "out, cache = affine_forward(x, w, b)\n",
    "grad = affine_backward(dout, cache)[1]\n",
    "ngrad = eval_numerical_gradient_array(lambda w: affine_forward(x, w, b)[0], w, dout)\n",
    "print(grad)\n",
    "print(ngrad)"
   ]
  },
  {
   "cell_type": "markdown",
   "metadata": {},
   "source": [
    "# 2.1.2 gradient check: ReLU"
   ]
  },
  {
   "cell_type": "code",
   "execution_count": 106,
   "metadata": {},
   "outputs": [
    {
     "name": "stdout",
     "output_type": "stream",
     "text": [
      "[[ 1.70194181  1.06535754 -0.00408705]\n",
      " [-0.22360542 -0.         -2.30814003]]\n",
      "[[ 1.70194181  1.06535754 -0.00408705]\n",
      " [-0.22360542  0.         -2.30814003]]\n"
     ]
    }
   ],
   "source": [
    "N = 2\n",
    "D = 3\n",
    "M = 4\n",
    "x = np.random.normal(size=(N, D))\n",
    "w = np.random.normal(size=(D, M))\n",
    "b = np.random.normal(size=(M, ))\n",
    "dout = np.random.normal(size=(N, D))\n",
    "\n",
    "out, cache = relu_forward(x)\n",
    "grad = relu_backward(dout, cache)\n",
    "ngrad = eval_numerical_gradient_array(lambda x: relu_forward(x)[0], x, dout)\n",
    "print(grad)\n",
    "print(ngrad)"
   ]
  },
  {
   "cell_type": "markdown",
   "metadata": {},
   "source": [
    "# 2.1.3 gradient check: Softmax Loss"
   ]
  },
  {
   "cell_type": "code",
   "execution_count": 110,
   "metadata": {},
   "outputs": [
    {
     "name": "stdout",
     "output_type": "stream",
     "text": [
      "[[-0.08002098  0.01998052  0.02000876  0.02002523  0.02000647]\n",
      " [ 0.02002995  0.02001225  0.0200058   0.01997098 -0.08001898]\n",
      " [ 0.02000956  0.020007    0.01999959  0.02000844 -0.08002459]\n",
      " [ 0.01995912  0.01999004  0.0200132   0.02001691 -0.07997926]\n",
      " [ 0.02000124  0.02002489 -0.08002547  0.01999769  0.02000165]\n",
      " [ 0.01998262 -0.07998815  0.02001365  0.01995633  0.02003555]\n",
      " [ 0.02000771  0.02003053  0.01997868 -0.08003298  0.02001606]\n",
      " [-0.08001727  0.02003667  0.02000045  0.01999148  0.01998867]\n",
      " [ 0.01998429  0.02001077 -0.08001233  0.0200117   0.02000557]\n",
      " [ 0.02000473  0.0199983   0.01998187 -0.08000583  0.02002093]]\n",
      "[[-0.08002098  0.01998052  0.02000876  0.02002523  0.02000647]\n",
      " [ 0.02002995  0.02001225  0.0200058   0.01997098 -0.08001898]\n",
      " [ 0.02000956  0.020007    0.01999959  0.02000844 -0.08002459]\n",
      " [ 0.01995912  0.01999004  0.0200132   0.02001691 -0.07997926]\n",
      " [ 0.02000124  0.02002489 -0.08002547  0.01999769  0.02000165]\n",
      " [ 0.01998262 -0.07998815  0.02001365  0.01995633  0.02003555]\n",
      " [ 0.02000771  0.02003053  0.01997868 -0.08003298  0.02001606]\n",
      " [-0.08001727  0.02003667  0.02000045  0.01999148  0.01998867]\n",
      " [ 0.01998429  0.02001077 -0.08001233  0.0200117   0.02000557]\n",
      " [ 0.02000473  0.0199983   0.01998187 -0.08000583  0.02002093]]\n"
     ]
    }
   ],
   "source": [
    "N = 2\n",
    "D = 3\n",
    "M = 4\n",
    "x = np.random.normal(size=(N, D))\n",
    "w = np.random.normal(size=(D, M))\n",
    "b = np.random.normal(size=(M, ))\n",
    "dout = np.random.normal(size=(N, D))\n",
    "\n",
    "num_classes, num_inputs = 5, 10\n",
    "x = 0.001 * np.random.normal(size=(num_inputs, num_classes))\n",
    "y = np.random.randint(num_classes, size=num_inputs)\n",
    "\n",
    "ngrad = eval_numerical_gradient_array(lambda x: softmax_loss(x, y)[0], x, 1)\n",
    "loss, grad = softmax_loss(x, y)\n",
    "print(grad)\n",
    "print(ngrad)"
   ]
  },
  {
   "cell_type": "markdown",
   "metadata": {},
   "source": [
    "# 2.3"
   ]
  },
  {
   "cell_type": "code",
   "execution_count": 62,
   "metadata": {},
   "outputs": [],
   "source": [
    "# TODO: put the path to your 'hw6_mds189', which should contain a 'trainval' and 'test' directory\n",
    "path = '/Users/dhanush/Documents/GitHub/cs189/hw6/hw6_mds189/trainval/'\n",
    "\n",
    "from data_utils import load_mds189\n",
    "# load the dataset\n",
    "debug = False  # OPTIONAL: you can change this to True for debugging *only*. Your reported results must be with debug = False\n",
    "feat_train, label_train, feat_val, label_val = load_mds189(path,debug)\n",
    "from solver import Solver\n",
    "from classifiers.fc_net import FullyConnectedNet"
   ]
  },
  {
   "cell_type": "code",
   "execution_count": 79,
   "metadata": {},
   "outputs": [
    {
     "name": "stdout",
     "output_type": "stream",
     "text": [
      "finished training model # 8/648"
     ]
    },
    {
     "name": "stderr",
     "output_type": "stream",
     "text": [
      "/Users/dhanush/Documents/GitHub/cs189/hw6/resources/problem2/layers.py:137: RuntimeWarning: divide by zero encountered in log\n",
      "  loss = -np.sum(np.log(probs[np.arange(N), y])) / N\n"
     ]
    },
    {
     "name": "stdout",
     "output_type": "stream",
     "text": [
      "finished training model # 648/648"
     ]
    }
   ],
   "source": [
    "import itertools\n",
    "\n",
    "data = {\n",
    "      'X_train': feat_train,\n",
    "      'y_train': label_train,\n",
    "      'X_val': feat_val,\n",
    "      'y_val': label_val}\n",
    "\n",
    "best_val = 0.0\n",
    "best_model = None\n",
    "best_combo = None\n",
    "\n",
    "def train_model(combo):\n",
    "    hd,lrd,ne,bs,lre,ws = combo\n",
    "    model = FullyConnectedNet(input_dim=75,\n",
    "                              hidden_dims=hd,\n",
    "                              weight_scale=ws)\n",
    "    solver = Solver(model, data,\n",
    "                    update_rule='sgd',\n",
    "                    optim_config={\n",
    "                      'learning_rate': lre,\n",
    "                    },\n",
    "                    lr_decay=lrd,\n",
    "                    num_epochs=ne, \n",
    "                    batch_size=bs,\n",
    "                    verbose=False\n",
    "                    #print_every=100\n",
    "                   )\n",
    "    solver.train()\n",
    "    return solver\n",
    "    \n",
    "lr_decay = [0.95,0.99,1.0]\n",
    "num_epochs = [10,15]\n",
    "batch_size = [64,128,256]\n",
    "learning_rate = [1e-4,1e-3,1e-2]\n",
    "weight_scale = [1e-4,1e-3,1e-2]\n",
    "hidden_dims = [[100]*i for i in range(1,5)]\n",
    "\n",
    "prog = 1\n",
    "combos = [combo for combo in itertools.product\\\n",
    "(hidden_dims,lr_decay,num_epochs,batch_size,learning_rate,weight_scale)]\n",
    "total = str(len(combos))\n",
    "\n",
    "for combo in combos:\n",
    "    model = train_model(combo)\n",
    "    avg_val = np.mean(model.val_acc_history)\n",
    "    if avg_val > best_val:\n",
    "        best_val = avg_val\n",
    "        best_model = model\n",
    "        best_combo = combo\n",
    "    print(\"\\rfinished training model # \"+str(prog)+\"/\"+total,end=\"\")\n",
    "    prog += 1"
   ]
  },
  {
   "cell_type": "code",
   "execution_count": 80,
   "metadata": {},
   "outputs": [
    {
     "data": {
      "image/png": "[encoded data removed]",
      "text/plain": [
       "<Figure size 432x288 with 1 Axes>"
      ]
     },
     "metadata": {
      "needs_background": "light"
     },
     "output_type": "display_data"
    },
    {
     "name": "stdout",
     "output_type": "stream",
     "text": [
      "best model hyperparameters: ([100], 0.99, 15, 64, 0.0001, 0.01)\n",
      "best model average train and validation accuracy: 0.850125 0.850125\n"
     ]
    }
   ],
   "source": [
    "plt.plot(best_model.train_acc_history, '-o', label=\"train\")\n",
    "plt.plot(best_model.val_acc_history, '-o', label=\"validation\")\n",
    "plt.xlabel(\"epocs\")\n",
    "plt.ylabel(\"accuracy\")\n",
    "plt.legend()\n",
    "plt.show()\n",
    "print(\"best model hyperparameters: \"+str(best_combo));\n",
    "print(\"best model average train and validation accuracy:\",\\\n",
    "      np.mean(best_model.train_acc_history),np.mean(best_model.train_acc_history))"
   ]
  },
  {
   "cell_type": "markdown",
   "metadata": {},
   "source": [
    "# 2.2"
   ]
  },
  {
   "cell_type": "code",
   "execution_count": 82,
   "metadata": {},
   "outputs": [
    {
     "name": "stdout",
     "output_type": "stream",
     "text": [
      "finished training model # 486/486"
     ]
    }
   ],
   "source": [
    "import itertools\n",
    "\n",
    "data = {\n",
    "      'X_train': feat_train,\n",
    "      'y_train': label_train,\n",
    "      'X_val': feat_val,\n",
    "      'y_val': label_val}\n",
    "\n",
    "best_val = 0.0\n",
    "best_model = None\n",
    "best_combo = None\n",
    "\n",
    "def train_model(combo):\n",
    "    hd,lrd,ne,bs,lre,ws = combo\n",
    "    model = FullyConnectedNet(input_dim=75,\n",
    "                              hidden_dims=hd,\n",
    "                              weight_scale=ws)\n",
    "    solver = Solver(model, data,\n",
    "                    update_rule='sgd',\n",
    "                    optim_config={\n",
    "                      'learning_rate': lre,\n",
    "                    },\n",
    "                    lr_decay=lrd,\n",
    "                    num_epochs=ne, \n",
    "                    batch_size=bs,\n",
    "                    verbose=False\n",
    "                    #print_every=100\n",
    "                   )\n",
    "    solver.train()\n",
    "    return solver\n",
    "    \n",
    "lr_decay = [0.95,0.99,1.0]\n",
    "num_epochs = [10,15]\n",
    "batch_size = [64,128,256]\n",
    "learning_rate = [1e-4,1e-3,1e-2]\n",
    "weight_scale = [1e-4,1e-3,1e-2]\n",
    "hidden_dims = [[h] for h in [75,100,125]]\n",
    "\n",
    "prog = 1\n",
    "combos = [combo for combo in itertools.product\\\n",
    "(hidden_dims,lr_decay,num_epochs,batch_size,learning_rate,weight_scale)]\n",
    "total = str(len(combos))\n",
    "\n",
    "for combo in combos:\n",
    "    model = train_model(combo)\n",
    "    avg_val = np.mean(model.val_acc_history)\n",
    "    if avg_val > best_val:\n",
    "        best_val = avg_val\n",
    "        best_model = model\n",
    "        best_combo = combo\n",
    "    print(\"\\rfinished training model # \"+str(prog)+\"/\"+total,end=\"\")\n",
    "    prog += 1"
   ]
  },
  {
   "cell_type": "code",
   "execution_count": 83,
   "metadata": {},
   "outputs": [
    {
     "data": {
      "image/png": "[encoded data removed]",
      "text/plain": [
       "<Figure size 432x288 with 1 Axes>"
      ]
     },
     "metadata": {
      "needs_background": "light"
     },
     "output_type": "display_data"
    },
    {
     "name": "stdout",
     "output_type": "stream",
     "text": [
      "best model hyperparameters: ([125], 0.99, 15, 64, 0.0001, 0.01)\n",
      "best model average train and validation accuracy: 0.8689375 0.8689375\n"
     ]
    }
   ],
   "source": [
    "plt.plot(best_model.train_acc_history, '-o', label=\"train\")\n",
    "plt.plot(best_model.val_acc_history, '-o', label=\"validation\")\n",
    "plt.xlabel(\"epocs\")\n",
    "plt.ylabel(\"accuracy\")\n",
    "plt.legend()\n",
    "plt.show()\n",
    "print(\"best model hyperparameters: \"+str(best_combo));\n",
    "print(\"best model average train and validation accuracy:\",\\\n",
    "      np.mean(best_model.train_acc_history),np.mean(best_model.train_acc_history))"
   ]
  }
 ],
 "metadata": {
  "anaconda-cloud": {},
  "kernelspec": {
   "display_name": "Python 3",
   "language": "python",
   "name": "python3"
  },
  "language_info": {
   "codemirror_mode": {
    "name": "ipython",
    "version": 3
   },
   "file_extension": ".py",
   "mimetype": "text/x-python",
   "name": "python",
   "nbconvert_exporter": "python",
   "pygments_lexer": "ipython3",
   "version": "3.6.7"
  }
 },
 "nbformat": 4,
 "nbformat_minor": 2
}
