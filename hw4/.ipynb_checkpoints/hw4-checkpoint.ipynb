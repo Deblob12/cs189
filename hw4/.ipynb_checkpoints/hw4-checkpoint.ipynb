{
 "cells": [
  {
   "cell_type": "markdown",
   "metadata": {},
   "source": [
    "# 4 Wine Classification with Logistic Regression"
   ]
  },
  {
   "cell_type": "code",
   "execution_count": 399,
   "metadata": {},
   "outputs": [],
   "source": [
    "import numpy as np\n",
    "import matplotlib.pyplot as plt\n",
    "from scipy.io import loadmat\n",
    "from scipy.special import *\n",
    "from save_csv import *\n",
    "\n",
    "np.random.seed(1)"
   ]
  },
  {
   "cell_type": "code",
   "execution_count": 428,
   "metadata": {},
   "outputs": [],
   "source": [
    "def shuffle_train_val_split(val_amt=0, percent=0):\n",
    "    data = loadmat(\"data.mat\")\n",
    "    total_num_ex = data[\"X\"].shape[0]\n",
    "    shuffle = np.random.permutation(total_num_ex) #shuffle before split\n",
    "    data_xtrain, data_ytrain = data[\"X\"][shuffle], \\\n",
    "    data[\"y\"][shuffle] #split\n",
    "    if not val_amt: #split by fixed number or percentage\n",
    "        val_amt = int(percent * total_num_ex)\n",
    "    data_xval, data_yval = data_xtrain[:val_amt,:], data_ytrain[:val_amt,:]\n",
    "    data_xtrain, data_ytrain = data_xtrain[val_amt:,:], data_ytrain[val_amt:,:]\n",
    "    return data_xtrain, data_ytrain, data_xval, data_yval\n",
    "\n",
    "def sigmoid(values):\n",
    "    return expit(values)\n",
    "\n",
    "def predict(X,w,mode=\"train\"):\n",
    "    predictions = sigmoid(np.dot(X,w))\n",
    "    if mode != \"train\": #validation or test\n",
    "        predictions = (predictions >= 0.5).astype(int)\n",
    "        \n",
    "    if mode == \"test\":\n",
    "        results_to_csv(predictions)\n",
    "        print(\"test predictions saved\")\n",
    "    else:\n",
    "        return predictions\n",
    "\n",
    "def logres_cost_reg(X,y,theta,lambd):\n",
    "    m = X.shape[0]\n",
    "    regularization = (lambd/(2*m)) * np.sum(np.square(theta[1:]))\n",
    "    predictions = predict(X,theta)\n",
    "    y = np.squeeze(y,axis=1)\n",
    "    J = ((-1.0/m) * (np.sum(np.dot(-y, np.log(predictions)) + \\\n",
    "                xlog1py(1-y, -predictions)))) + regularization\n",
    "    return J\n",
    "\n",
    "def gradientdescent_reg_optimize(iterations,theta,lambd,alpha,GD_type=\"batch\",mode=\"train\"):\n",
    "    x, y = None, None\n",
    "    if mode == \"train\":\n",
    "        x, y = wine_xtrain, wine_ytrain\n",
    "    elif mode == \"test\":\n",
    "        x, y = wine_xfull, wine_yfull\n",
    "        \n",
    "    costs = [0] * iterations\n",
    "    if len(lambd) == 1:\n",
    "        lambd = [lambd[0]] * iterations\n",
    "    next_theta = theta.copy()\n",
    "    \n",
    "    for i in range(iterations):\n",
    "        ###\n",
    "        if GD_type == \"batch\":\n",
    "            new_theta = batchGD_reg_iteration(x,y,theta,lambd[i],alpha)\n",
    "        elif GD_type == \"stochastic\":\n",
    "            new_theta = stochasticGD_reg_iteration(x,y,theta,lambd[i],alpha)\n",
    "        costs[i] = logres_cost_reg(x,y,theta,lambd[i])\n",
    "        theta = new_theta\n",
    "        \n",
    "    return theta, costs"
   ]
  },
  {
   "cell_type": "code",
   "execution_count": 401,
   "metadata": {},
   "outputs": [],
   "source": [
    "wine_xtrain, wine_ytrain, wine_xval, wine_yval = \\\n",
    "shuffle_train_val_split(percent=0.2)\n",
    "m1, n = wine_xtrain.shape\n",
    "m2, _ = wine_xval.shape\n",
    "wine_xtrain = np.concatenate([np.ones((m1, 1)), wine_xtrain], axis=1)\n",
    "wine_xval = np.concatenate([np.ones((m2, 1)), wine_xval], axis=1)"
   ]
  },
  {
   "cell_type": "markdown",
   "metadata": {},
   "source": [
    "## 4.1 batch gradient descent update equation for logistic regression"
   ]
  },
  {
   "cell_type": "markdown",
   "metadata": {},
   "source": [
    "![4.1 derivation](41updated.png)"
   ]
  },
  {
   "cell_type": "code",
   "execution_count": 402,
   "metadata": {},
   "outputs": [],
   "source": [
    "alpha = 0.001\n",
    "lambd = [0.1] #actually lambda\n",
    "theta = np.random.randn(n+1)\n",
    "iterations = 1000\n",
    "\n",
    "def batchGD_reg_iteration(X,y,theta,lambd,alpha):\n",
    "    y = np.squeeze(y,axis=1)\n",
    "    gradients = \\\n",
    "    (-1/len(y)*np.dot(X.T,(y-sigmoid(np.dot(X,theta))))).reshape(theta.shape)\n",
    "    gradients[1:] += (lambd/len(y) * theta[1:])\n",
    "    new_theta = theta - alpha*gradients\n",
    "    return new_theta"
   ]
  },
  {
   "cell_type": "code",
   "execution_count": 403,
   "metadata": {},
   "outputs": [
    {
     "data": {
      "image/png": "[encoded data removed]",
      "text/plain": [
       "<Figure size 432x288 with 1 Axes>"
      ]
     },
     "metadata": {
      "needs_background": "light"
     },
     "output_type": "display_data"
    }
   ],
   "source": [
    "theta, costs = gradientdescent_reg_optimize(iterations,theta,lambd,alpha,\"batch\")\n",
    "plt.title(\"batch gradient descent\")\n",
    "plt.xlabel(\"Cost\")\n",
    "plt.ylabel(\"iteration\")\n",
    "plt.plot([i for i in range(iterations)], costs);"
   ]
  },
  {
   "cell_type": "markdown",
   "metadata": {},
   "source": [
    "## 4.2 stochastic gradient descent update equation for logistic regression"
   ]
  },
  {
   "cell_type": "code",
   "execution_count": 420,
   "metadata": {},
   "outputs": [],
   "source": [
    "alpha = 0.05\n",
    "lambd = [0.01] #actually lambda\n",
    "theta = np.random.randn(n+1)\n",
    "iterations = 1000\n",
    "\n",
    "def stochasticGD_reg_iteration(X,y,theta,lambd,alpha):\n",
    "    new_theta = theta.copy()\n",
    "    y = np.squeeze(y,axis=1)\n",
    "    np.random.shuffle(X)\n",
    "    for i in range(len(y)):\n",
    "        gradients = np.dot(y[i]-sigmoid(np.dot(X[i,:],theta)),X[i,:])\n",
    "        gradients[1:] += (lambd/len(y) * theta[1:])\n",
    "        new_theta = theta - alpha*gradients\n",
    "    return new_theta"
   ]
  },
  {
   "cell_type": "code",
   "execution_count": 429,
   "metadata": {},
   "outputs": [
    {
     "name": "stderr",
     "output_type": "stream",
     "text": [
      "/anaconda3/envs/cs189/lib/python3.6/site-packages/ipykernel_launcher.py:32: RuntimeWarning: divide by zero encountered in log\n"
     ]
    },
    {
     "data": {
      "text/plain": [
       "[<matplotlib.lines.Line2D at 0xb26931c88>]"
      ]
     },
     "execution_count": 429,
     "metadata": {},
     "output_type": "execute_result"
    },
    {
     "data": {
      "image/png": "[encoded data removed]",
      "text/plain": [
       "<Figure size 432x288 with 1 Axes>"
      ]
     },
     "metadata": {
      "needs_background": "light"
     },
     "output_type": "display_data"
    }
   ],
   "source": [
    "theta, costs = \\\n",
    "gradientdescent_reg_optimize(iterations,theta,lambd,alpha,\"stochastic\",\"train\")\n",
    "plt.title(\"stochastic gradient descent\")\n",
    "plt.xlabel(\"Cost\")\n",
    "plt.ylabel(\"iteration\")\n",
    "plt.plot([i for i in range(iterations)], costs)"
   ]
  },
  {
   "cell_type": "markdown",
   "metadata": {},
   "source": [
    "![4.2 derivation](42updated.png)"
   ]
  },
  {
   "cell_type": "markdown",
   "metadata": {},
   "source": [
    "#### The difference in converge between batch and stochastic gradient descent is that stochastic converges faster (and more consistently between different runs)."
   ]
  },
  {
   "cell_type": "markdown",
   "metadata": {},
   "source": [
    "## 4.3 stochastic gradient descent with decaying learning rate"
   ]
  },
  {
   "cell_type": "code",
   "execution_count": 411,
   "metadata": {},
   "outputs": [
    {
     "name": "stderr",
     "output_type": "stream",
     "text": [
      "/anaconda3/envs/cs189/lib/python3.6/site-packages/ipykernel_launcher.py:32: RuntimeWarning: divide by zero encountered in log\n"
     ]
    },
    {
     "data": {
      "image/png": "[encoded data removed]",
      "text/plain": [
       "<Figure size 432x288 with 1 Axes>"
      ]
     },
     "metadata": {
      "needs_background": "light"
     },
     "output_type": "display_data"
    }
   ],
   "source": [
    "alpha = 0.001\n",
    "init_lambd = 0.1\n",
    "iterations = 1000\n",
    "lambd = [init_lambd/(i+1) for i in range(iterations)] #actually lambda\n",
    "theta = np.random.randn(n+1)\n",
    "\n",
    "theta, costs = \\\n",
    "gradientdescent_reg_optimize(iterations,theta,lambd,alpha,\"stochastic\",\"train\")\n",
    "plt.title(\"stochastic gradient descent with decaying learning rate\")\n",
    "plt.xlabel(\"Cost\")\n",
    "plt.ylabel(\"iteration\")\n",
    "plt.plot([i for i in range(iterations)], costs);"
   ]
  },
  {
   "cell_type": "markdown",
   "metadata": {},
   "source": [
    "#### Based off my results with a decaying learning rate, it does seem like a better approach than a constant rate."
   ]
  },
  {
   "cell_type": "markdown",
   "metadata": {},
   "source": [
    "## 4.4 Kaggle submission"
   ]
  },
  {
   "cell_type": "markdown",
   "metadata": {},
   "source": [
    "#### Kaggle username: danish123, Kaggle best score: 0.91946\n",
    "#### Process to achieving my score: I just did hyperparameter tuning of learning rate, regularization amount, and iterations amount by training on the same training set for each combo and finding the combo with the best average validation accuracy. I saved the combos and their associated validation accuracies to a plain text file so I'd have my progress saved in case I encountered some error while the cell was running. I then did the straightforward process of training with all my training data with the best combo and producing test predictions with the optimized weights/theta."
   ]
  },
  {
   "cell_type": "code",
   "execution_count": 412,
   "metadata": {},
   "outputs": [
    {
     "name": "stderr",
     "output_type": "stream",
     "text": [
      "/anaconda3/envs/cs189/lib/python3.6/site-packages/ipykernel_launcher.py:32: RuntimeWarning: divide by zero encountered in log\n",
      "/anaconda3/envs/cs189/lib/python3.6/site-packages/ipykernel_launcher.py:32: RuntimeWarning: invalid value encountered in add\n"
     ]
    },
    {
     "name": "stdout",
     "output_type": "stream",
     "text": [
      "best validation accuracy:  0.7433333333333333\n",
      "best hyperparameters combo: (0.001, [0.01], 20000)\n",
      "CPU times: user 20min 32s, sys: 4.37 s, total: 20min 36s\n",
      "Wall time: 3min 27s\n"
     ]
    }
   ],
   "source": [
    "%%time\n",
    "\n",
    "alphas = np.geomspace(0.001,1.0,num=5).tolist()\n",
    "lambdas =  np.geomspace(0.01,1.0,num=5).tolist() #actually lambda\n",
    "iterations = [1000,10000,20000]\n",
    "theta = np.random.randn(n+1)\n",
    "best_hyperparams = None\n",
    "best_val_acc = 0.0\n",
    "\n",
    "for a in alphas:\n",
    "    for l in lambdas:\n",
    "        for i in iterations:\n",
    "            ll = [l]\n",
    "            theta, _ = \\\n",
    "            gradientdescent_reg_optimize(i,theta,ll,a,\"batch\",\"train\")\n",
    "            val_acc = \\\n",
    "            np.mean(predict(wine_xval,theta,\"val\") == wine_yval)\n",
    "            if val_acc > best_val_acc:\n",
    "                best_val_acc = val_acc\n",
    "                best_hyperparams = (a,ll,i)\n",
    "            file = open('hyperparams.txt','a')\n",
    "            file.write(','.join(map(str,(val_acc,a,l,i)))+\"\\n\")\n",
    "            file.close()\n",
    "\n",
    "print(\"best validation accuracy: \",best_val_acc)\n",
    "print(\"best hyperparameters combo:\",best_hyperparams)"
   ]
  },
  {
   "cell_type": "code",
   "execution_count": 413,
   "metadata": {},
   "outputs": [
    {
     "data": {
      "image/png": "[encoded data removed]",
      "text/plain": [
       "<Figure size 432x288 with 1 Axes>"
      ]
     },
     "metadata": {
      "needs_background": "light"
     },
     "output_type": "display_data"
    }
   ],
   "source": [
    "data = loadmat(\"data.mat\")\n",
    "wine_xfull, wine_yfull = data[\"X\"], data[\"y\"]\n",
    "m3, _ = wine_xfull.shape\n",
    "wine_xfull = np.concatenate([np.ones((m3, 1)), wine_xfull], axis=1)\n",
    "\n",
    "alpha, lambd, iterations = best_hyperparams\n",
    "\n",
    "theta = np.random.randn(n+1)\n",
    "\n",
    "theta, costs = \\\n",
    "gradientdescent_reg_optimize(iterations,theta,lambd,alpha,\"batch\",\"test\")\n",
    "plt.title(\"cost over iterations for all data (train + validation)\")\n",
    "plt.xlabel(\"Cost\")\n",
    "plt.ylabel(\"iteration\")\n",
    "plt.plot([i for i in range(iterations)], costs);"
   ]
  },
  {
   "cell_type": "code",
   "execution_count": 414,
   "metadata": {},
   "outputs": [
    {
     "name": "stdout",
     "output_type": "stream",
     "text": [
      "test predictions saved\n"
     ]
    }
   ],
   "source": [
    "wine_xtest = data[\"X_test\"]\n",
    "m4, n4 = wine_xtest.shape\n",
    "wine_xtest = np.concatenate([np.ones((m4, 1)), wine_xtest], axis=1)\n",
    "                            \n",
    "predict(wine_xtest,theta,\"test\")"
   ]
  },
  {
   "cell_type": "markdown",
   "metadata": {},
   "source": [
    "# APPENDIX (don't run this code)"
   ]
  },
  {
   "cell_type": "code",
   "execution_count": null,
   "metadata": {},
   "outputs": [],
   "source": [
    "import numpy as np\n",
    "import matplotlib.pyplot as plt\n",
    "from scipy.io import loadmat\n",
    "from scipy.special import *\n",
    "from save_csv import *\n",
    "\n",
    "np.random.seed(1)\n",
    "\n",
    "def shuffle_train_val_split(val_amt=0, percent=0):\n",
    "    data = loadmat(\"data.mat\")\n",
    "    total_num_ex = data[\"X\"].shape[0]\n",
    "    shuffle = np.random.permutation(total_num_ex) #shuffle before split\n",
    "    data_xtrain, data_ytrain = data[\"X\"][shuffle], \\\n",
    "    data[\"y\"][shuffle] #split\n",
    "    if not val_amt: #split by fixed number or percentage\n",
    "        val_amt = int(percent * total_num_ex)\n",
    "    data_xval, data_yval = data_xtrain[:val_amt,:], data_ytrain[:val_amt,:]\n",
    "    data_xtrain, data_ytrain = data_xtrain[val_amt:,:], data_ytrain[val_amt:,:]\n",
    "    return data_xtrain, data_ytrain, data_xval, data_yval\n",
    "\n",
    "def sigmoid(values):\n",
    "    return expit(values)\n",
    "\n",
    "def predict(X,w,mode=\"train\"):\n",
    "    predictions = sigmoid(np.dot(X,w))\n",
    "    if mode != \"train\": #validation or test\n",
    "        predictions = (predictions >= 0.5).astype(int)\n",
    "        \n",
    "    if mode == \"test\":\n",
    "        results_to_csv(predictions)\n",
    "        print(\"test predictions saved\")\n",
    "    else:\n",
    "        return predictions\n",
    "\n",
    "def logres_cost_reg(X,y,theta,lambd):\n",
    "    m = X.shape[0]\n",
    "    regularization = (lambd/(2*m)) * np.sum(np.square(theta[1:]))\n",
    "    predictions = predict(X,theta)\n",
    "    y = np.squeeze(y,axis=1)\n",
    "    J = ((-1.0/m) * (np.sum(np.dot(-y, np.log(predictions)) + \\\n",
    "                xlog1py(1-y, -predictions)))) + regularization\n",
    "    return J\n",
    "\n",
    "def gradientdescent_reg_optimize(iterations,theta,lambd,alpha,GD_type=\"batch\",mode=\"train\"):\n",
    "    x, y = None, None\n",
    "    if mode == \"train\":\n",
    "        x, y = wine_xtrain, wine_ytrain\n",
    "    elif mode == \"test\":\n",
    "        x, y = wine_xfull, wine_yfull\n",
    "        \n",
    "    costs = [0] * iterations\n",
    "    if len(lambd) == 1:\n",
    "        lambd = [lambd[0]] * iterations\n",
    "    next_theta = theta.copy()\n",
    "    \n",
    "    for i in range(iterations):\n",
    "        ###\n",
    "        if GD_type == \"batch\":\n",
    "            new_theta = batchGD_reg_iteration(x,y,theta,lambd[i],alpha)\n",
    "        elif GD_type == \"stochastic\":\n",
    "            new_theta = stochasticGD_reg_iteration(x,y,theta,lambd[i],alpha)\n",
    "        costs[i] = logres_cost_reg(x,y,theta,lambd[i])\n",
    "        theta = new_theta\n",
    "        \n",
    "    return theta, costs\n",
    "\n",
    "wine_xtrain, wine_ytrain, wine_xval, wine_yval = \\\n",
    "shuffle_train_val_split(percent=0.2)\n",
    "m1, n = wine_xtrain.shape\n",
    "m2, _ = wine_xval.shape\n",
    "wine_xtrain = np.concatenate([np.ones((m1, 1)), wine_xtrain], axis=1)\n",
    "wine_xval = np.concatenate([np.ones((m2, 1)), wine_xval], axis=1)\n",
    "\n",
    "alpha = 0.001\n",
    "lambd = [0.1] #actually lambda\n",
    "theta = np.random.randn(n+1)\n",
    "iterations = 1000\n",
    "\n",
    "def batchGD_reg_iteration(X,y,theta,lambd,alpha):\n",
    "    y = np.squeeze(y,axis=1)\n",
    "    gradients = \\\n",
    "    (-1/len(y)*np.dot(X.T,(y-sigmoid(np.dot(X,theta))))).reshape(theta.shape)\n",
    "    gradients[1:] += (lambd/len(y) * theta[1:])\n",
    "    new_theta = theta - alpha*gradients\n",
    "    return new_theta\n",
    "\n",
    "theta, costs = \\\n",
    "gradientdescent_reg_optimize(iterations,theta,lambd,alpha,\"batch\")\n",
    "plt.title(\"batch gradient descent\")\n",
    "plt.xlabel(\"Cost\")\n",
    "plt.ylabel(\"iteration\")\n",
    "plt.plot([i for i in range(iterations)], costs);\n",
    "\n",
    "alpha = 0.05\n",
    "lambd = [0.01] #actually lambda\n",
    "theta = np.random.randn(n+1)\n",
    "iterations = 1000\n",
    "\n",
    "def stochasticGD_reg_iteration(X,y,theta,lambd,alpha):\n",
    "    new_theta = theta.copy()\n",
    "    y = np.squeeze(y,axis=1)\n",
    "    np.random.shuffle(X)\n",
    "    for i in range(len(y)):\n",
    "        gradients = np.dot(y[i]-sigmoid(np.dot(X[i,:],theta)),X[i,:])\n",
    "        gradients[1:] += (lambd/len(y) * theta[1:])\n",
    "        new_theta = theta - alpha*gradients\n",
    "    return new_theta\n",
    "\n",
    "theta, costs = \\\n",
    "gradientdescent_reg_optimize(iterations,theta,lambd,alpha,\"stochastic\",\"train\")\n",
    "plt.title(\"stochastic gradient descent\")\n",
    "plt.xlabel(\"Cost\")\n",
    "plt.ylabel(\"iteration\")\n",
    "plt.plot([i for i in range(iterations)], costs)\n",
    "\n",
    "alpha = 0.001\n",
    "init_lambd = 0.1\n",
    "iterations = 1000\n",
    "lambd = [init_lambd/(i+1) for i in range(iterations)] #actually lambda\n",
    "theta = np.random.randn(n+1)\n",
    "\n",
    "theta, costs = \\\n",
    "gradientdescent_reg_optimize(iterations,theta,lambd,alpha,\"stochastic\",\"train\")\n",
    "plt.title(\"stochastic gradient descent with decaying learning rate\")\n",
    "plt.xlabel(\"Cost\")\n",
    "plt.ylabel(\"iteration\")\n",
    "plt.plot([i for i in range(iterations)], costs);\n",
    "\n",
    "%%time\n",
    "\n",
    "alphas = np.geomspace(0.001,1.0,num=5).tolist()\n",
    "lambdas =  np.geomspace(0.01,1.0,num=5).tolist() #actually lambda\n",
    "iterations = [1000,10000,20000]\n",
    "theta = np.random.randn(n+1)\n",
    "best_hyperparams = None\n",
    "best_val_acc = 0.0\n",
    "\n",
    "for a in alphas:\n",
    "    for l in lambdas:\n",
    "        for i in iterations:\n",
    "            ll = [l]\n",
    "            theta, _ = \\\n",
    "            gradientdescent_reg_optimize(i,theta,ll,a,\"batch\",\"train\")\n",
    "            val_acc = \\\n",
    "            np.mean(predict(wine_xval,theta,\"val\") == wine_yval)\n",
    "            if val_acc > best_val_acc:\n",
    "                best_val_acc = val_acc\n",
    "                best_hyperparams = (a,ll,i)\n",
    "            file = open('hyperparams.txt','a')\n",
    "            file.write(','.join(map(str,(val_acc,a,l,i)))+\"\\n\")\n",
    "            file.close()\n",
    "\n",
    "print(\"best validation accuracy: \",best_val_acc)\n",
    "print(\"best hyperparameters combo:\",best_hyperparams)\n",
    "\n",
    "data = loadmat(\"data.mat\")\n",
    "wine_xfull, wine_yfull = data[\"X\"], data[\"y\"]\n",
    "m3, _ = wine_xfull.shape\n",
    "wine_xfull = np.concatenate([np.ones((m3, 1)), wine_xfull], axis=1)\n",
    "\n",
    "alpha, lambd, iterations = best_hyperparams\n",
    "\n",
    "theta = np.random.randn(n+1)\n",
    "\n",
    "theta, costs = \\\n",
    "gradientdescent_reg_optimize(iterations,theta,lambd,alpha,\"batch\",\"test\")\n",
    "plt.title(\"cost over iterations for all data (train + validation)\")\n",
    "plt.xlabel(\"Cost\")\n",
    "plt.ylabel(\"iteration\")\n",
    "plt.plot([i for i in range(iterations)], costs);\n",
    "\n",
    "wine_xtest = data[\"X_test\"]\n",
    "m4, n4 = wine_xtest.shape\n",
    "wine_xtest = np.concatenate([np.ones((m4, 1)), wine_xtest], axis=1)\n",
    "                            \n",
    "predict(wine_xtest,theta,\"test\")"
   ]
  }
 ],
 "metadata": {
  "kernelspec": {
   "display_name": "Python 3",
   "language": "python",
   "name": "python3"
  },
  "language_info": {
   "codemirror_mode": {
    "name": "ipython",
    "version": 3
   },
   "file_extension": ".py",
   "mimetype": "text/x-python",
   "name": "python",
   "nbconvert_exporter": "python",
   "pygments_lexer": "ipython3",
   "version": "3.6.7"
  }
 },
 "nbformat": 4,
 "nbformat_minor": 2
}
