{
 "cells": [
  {
   "cell_type": "markdown",
   "metadata": {},
   "source": [
    "# 4 Wine Classification with Logistic Regression"
   ]
  },
  {
   "cell_type": "code",
   "execution_count": 154,
   "metadata": {},
   "outputs": [],
   "source": [
    "import numpy as np\n",
    "import matplotlib.pyplot as plt\n",
    "from scipy.io import loadmat\n",
    "from scipy.special import *\n",
    "from save_csv import *"
   ]
  },
  {
   "cell_type": "code",
   "execution_count": 155,
   "metadata": {},
   "outputs": [],
   "source": [
    "def shuffle_train_val_split(val_amt=0, percent=0):\n",
    "    data = loadmat(\"data.mat\")\n",
    "    total_num_ex = data[\"X\"].shape[0]\n",
    "    shuffle = np.random.permutation(total_num_ex) #shuffle before split\n",
    "    data_xtrain, data_ytrain = data[\"X\"][shuffle], \\\n",
    "    data[\"y\"][shuffle] #split\n",
    "    if not val_amt: #split by fixed number or percentage\n",
    "        val_amt = int(percent * total_num_ex)\n",
    "    data_xval, data_yval = data_xtrain[:val_amt,:], data_ytrain[:val_amt,:]\n",
    "    data_xtrain, data_ytrain = data_xtrain[val_amt:,:], data_ytrain[val_amt:,:]\n",
    "    return data_xtrain, data_ytrain, data_xval, data_yval\n",
    "\n",
    "def sigmoid(values):\n",
    "    return expit(values)\n",
    "\n",
    "def predict(X,w,mode=\"train\"):\n",
    "    predictions = sigmoid(np.dot(X,w))\n",
    "    if mode == \"test\":\n",
    "        predictions = (predictions >= 0.5).astype(int)\n",
    "        results_to_csv(predictions)\n",
    "        print(\"test predictions saved\")\n",
    "    return predictions\n",
    "\n",
    "def logres_cost_reg(X,y,theta,lambd):\n",
    "    m = X.shape[0]\n",
    "    regularization = (lambd/(2*m)) * np.sum(np.square(theta[1:]))\n",
    "    predictions = predict(X,theta)\n",
    "    y = np.squeeze(y,axis=1)\n",
    "    J = ((-1.0/m) * (np.sum(np.dot(-y, np.log(predictions)) + xlog1py(1-y, -predictions)))) + regularization\n",
    "    return J\n",
    "\n",
    "def gradientdescent_reg_optimize(iterations,theta,lambd,alpha,GD_type=\"batch\"):\n",
    "    costs = [0] * iterations\n",
    "    if len(lambd) == 1:\n",
    "        lambd = [lambd[0]] * iterations\n",
    "    next_theta = theta.copy()\n",
    "    for i in range(iterations):\n",
    "        if GD_type == \"batch\":\n",
    "            new_theta = batchGD_reg_iteration(wine_xtrain,wine_ytrain,theta,lambd[i],alpha)\n",
    "        elif GD_type == \"stochastic\":\n",
    "            new_theta = stochasticGD_reg_iteration(wine_xtrain,wine_ytrain,theta,lambd[i],alpha)\n",
    "        costs[i] = logres_cost_reg(wine_xtrain,wine_ytrain,theta,lambd[i])\n",
    "        theta = new_theta\n",
    "    return theta, costs"
   ]
  },
  {
   "cell_type": "code",
   "execution_count": 156,
   "metadata": {},
   "outputs": [],
   "source": [
    "wine_xtrain, wine_ytrain, wine_xval, wine_yval = shuffle_train_val_split(percent=0.2)\n",
    "m1, n1 = wine_xtrain.shape\n",
    "m2, n2 = wine_xval.shape\n",
    "wine_xtrain = np.concatenate([np.ones((m1, 1)), wine_xtrain], axis=1)\n",
    "wine_xval = np.concatenate([np.ones((m2, 1)), wine_xval], axis=1)"
   ]
  },
  {
   "cell_type": "markdown",
   "metadata": {},
   "source": [
    "\\pagebreak"
   ]
  },
  {
   "cell_type": "markdown",
   "metadata": {},
   "source": [
    "## 4.1 batch gradient descent update equation for logistic regression"
   ]
  },
  {
   "cell_type": "markdown",
   "metadata": {},
   "source": [
    "### TODO: insert handwritten image here for derivations"
   ]
  },
  {
   "cell_type": "code",
   "execution_count": 177,
   "metadata": {},
   "outputs": [],
   "source": [
    "alpha = 0.001\n",
    "lambd = [0.1] #actually lambda\n",
    "theta = np.random.randn(n1+1)\n",
    "iterations = 1000\n",
    "\n",
    "def batchGD_reg_iteration(X,y,theta,lambd,alpha):\n",
    "    y = np.squeeze(y,axis=1)\n",
    "    gradients = (-1/len(y) * np.dot(X.T,(y-sigmoid(np.dot(X,theta))))).reshape(theta.shape)\n",
    "    gradients[1:] += (lambd/len(y) * theta[1:])\n",
    "    new_theta = theta - alpha*gradients\n",
    "    return new_theta"
   ]
  },
  {
   "cell_type": "code",
   "execution_count": 178,
   "metadata": {},
   "outputs": [
    {
     "data": {
      "image/png": "[encoded data removed]",
      "text/plain": [
       "<Figure size 432x288 with 1 Axes>"
      ]
     },
     "metadata": {
      "needs_background": "light"
     },
     "output_type": "display_data"
    }
   ],
   "source": [
    "theta, costs = gradientdescent_reg_optimize(iterations,theta,lambd,alpha,\"batch\")\n",
    "plt.title(\"batch gradient descent\")\n",
    "plt.xlabel(\"Cost\")\n",
    "plt.ylabel(\"iteration\")\n",
    "plt.plot([i for i in range(iterations)], costs);"
   ]
  },
  {
   "cell_type": "markdown",
   "metadata": {},
   "source": [
    "## 4.2 stochastic gradient descent update equation for logistic regression"
   ]
  },
  {
   "cell_type": "markdown",
   "metadata": {},
   "source": [
    "### TODO: insert handwritten image here for derivations"
   ]
  },
  {
   "cell_type": "code",
   "execution_count": 179,
   "metadata": {},
   "outputs": [],
   "source": [
    "alpha = 0.001\n",
    "lambd = [0.1] #actually lambda\n",
    "theta = np.random.randn(n1+1)\n",
    "iterations = 1000\n",
    "\n",
    "def stochasticGD_reg_iteration(X,y,theta,lambd,alpha):\n",
    "    new_theta = theta.copy()\n",
    "    y = np.squeeze(y,axis=1)\n",
    "    np.random.shuffle(X)\n",
    "    for i in range(len(y)):\n",
    "        gradients = np.dot(y[i]-sigmoid(np.dot(X[i,:],theta)),X[i,:])\n",
    "        gradients[1:] += (lambd/len(y) * theta[1:])\n",
    "        new_theta = theta - alpha*gradients\n",
    "    return new_theta"
   ]
  },
  {
   "cell_type": "code",
   "execution_count": 180,
   "metadata": {},
   "outputs": [
    {
     "data": {
      "image/png": "[encoded data removed]",
      "text/plain": [
       "<Figure size 432x288 with 1 Axes>"
      ]
     },
     "metadata": {
      "needs_background": "light"
     },
     "output_type": "display_data"
    }
   ],
   "source": [
    "theta, costs = gradientdescent_reg_optimize(iterations,theta,lambd,alpha)\n",
    "plt.title(\"stochastic gradient descent\")\n",
    "plt.xlabel(\"Cost\")\n",
    "plt.ylabel(\"iteration\")\n",
    "plt.plot([i for i in range(iterations)], costs);"
   ]
  },
  {
   "cell_type": "markdown",
   "metadata": {},
   "source": [
    "#### The difference in converge between batch and stochastic gradient descent is that stochastic converges faster (and more consistently between different runs)."
   ]
  },
  {
   "cell_type": "markdown",
   "metadata": {},
   "source": [
    "## 4.3 stochastic gradient descent with decaying learning rate"
   ]
  },
  {
   "cell_type": "code",
   "execution_count": 186,
   "metadata": {},
   "outputs": [
    {
     "data": {
      "image/png": "[encoded data removed]",
      "text/plain": [
       "<Figure size 432x288 with 1 Axes>"
      ]
     },
     "metadata": {
      "needs_background": "light"
     },
     "output_type": "display_data"
    }
   ],
   "source": [
    "alpha = 0.001\n",
    "init_lambd = 0.1\n",
    "iterations = 1000\n",
    "lambd = [init_lambd/(i+1) for i in range(iterations)] #actually lambda\n",
    "theta = np.random.randn(n1+1)\n",
    "\n",
    "theta, costs = gradientdescent_reg_optimize(iterations,theta,lambd,alpha)\n",
    "plt.title(\"stochastic gradient descent with decaying learning rate\")\n",
    "plt.xlabel(\"Cost\")\n",
    "plt.ylabel(\"iteration\")\n",
    "plt.plot([i for i in range(iterations)], costs);"
   ]
  },
  {
   "cell_type": "markdown",
   "metadata": {},
   "source": [
    "#### Based off my results with a decaying learning rate, it does seem like a better approach than a constant rate."
   ]
  },
  {
   "cell_type": "code",
   "execution_count": 60,
   "metadata": {},
   "outputs": [],
   "source": [
    "# print(\"val acc\",np.mean(predict(wine_xval,theta,\"test\") == wine_yval))"
   ]
  }
 ],
 "metadata": {
  "kernelspec": {
   "display_name": "Python 3",
   "language": "python",
   "name": "python3"
  },
  "language_info": {
   "codemirror_mode": {
    "name": "ipython",
    "version": 3
   },
   "file_extension": ".py",
   "mimetype": "text/x-python",
   "name": "python",
   "nbconvert_exporter": "python",
   "pygments_lexer": "ipython3",
   "version": "3.6.7"
  }
 },
 "nbformat": 4,
 "nbformat_minor": 2
}
